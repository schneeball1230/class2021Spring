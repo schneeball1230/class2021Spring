{
  "nbformat": 4,
  "nbformat_minor": 0,
  "metadata": {
    "colab": {
      "name": "Programming.ipynb",
      "provenance": [],
      "authorship_tag": "ABX9TyM7UwE/12IpVNYJIlcc7C77",
      "include_colab_link": true
    },
    "kernelspec": {
      "name": "python3",
      "display_name": "Python 3"
    }
  },
  "cells": [
    {
      "cell_type": "markdown",
      "metadata": {
        "id": "view-in-github",
        "colab_type": "text"
      },
      "source": [
        "<a href=\"https://colab.research.google.com/github/schneeball1230/class2021Spring/blob/main/programming.ipynb\" target=\"_parent\"><img src=\"https://colab.research.google.com/assets/colab-badge.svg\" alt=\"Open In Colab\"/></a>"
      ]
    },
    {
      "cell_type": "markdown",
      "metadata": {
        "id": "LmZRuu_Vqr7k"
      },
      "source": [
        "# 파이썬 프로그래밍 언어의 변수, 제어문, 함수\n",
        "## 변수\n",
        "변수란 값을 할당해주는 공간이다.\n",
        "\n",
        "예를 들면 a = 1 이런 식으로 a라는 변수에 1이라는 값을 할당해줄 수 있다.\n",
        "\n",
        "## 제어문\n",
        "파이썬 프로그래밍 언어에서 제어문은 조건문과 반복문이 있다.\n",
        "\n",
        "어떤 프로그램을 한 번만 실행시킬 것이라면 굳이 코드를 짜지 않고 사람이 해도 된다.\n",
        "\n",
        "하지만 여러번 반복하거나, 실행시킬 조건을 줘야 한다면 제어문으로 손쉽게 다룰 수 있다.\n",
        "\n",
        "파이썬의 조건문으로는 if문이 있고 반복문으로는 for가 있다.\n",
        "\n",
        "## 함수\n",
        "함수란 입력값을 받아서 일련의 명령들을 실행한 후, 출력값을 내보내는 시스템이다.\n",
        "\n",
        "자주 쓰는 명령이 있다면 함수로 만들어서 효율적으로 코드를 작성할 수 있다.\n",
        "\n",
        "** input ----f(x)-----> output **"
      ]
    }
  ]
}