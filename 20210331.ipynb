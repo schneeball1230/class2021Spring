{
  "nbformat": 4,
  "nbformat_minor": 0,
  "metadata": {
    "colab": {
      "name": "20210331.ipynb",
      "provenance": [],
      "authorship_tag": "ABX9TyPQlctTuJwv/BcEGbtujTbr",
      "include_colab_link": true
    },
    "kernelspec": {
      "name": "python3",
      "display_name": "Python 3"
    },
    "language_info": {
      "name": "python"
    }
  },
  "cells": [
    {
      "cell_type": "markdown",
      "metadata": {
        "id": "view-in-github",
        "colab_type": "text"
      },
      "source": [
        "<a href=\"https://colab.research.google.com/github/schneeball1230/class2021Spring/blob/main/20210331.ipynb\" target=\"_parent\"><img src=\"https://colab.research.google.com/assets/colab-badge.svg\" alt=\"Open In Colab\"/></a>"
      ]
    },
    {
      "cell_type": "markdown",
      "metadata": {
        "id": "g-Pc7hm06ekY"
      },
      "source": [
        "# '아', '애' praat 분석\n",
        "\n",
        "## pitch\n",
        "아: 102hz 애: 106hz\n",
        "## intensity\n",
        "아: 83.75db 애: 82.54db\n",
        "## formant\n",
        "아: 412hz차이 애: 1620hz차이\n",
        "## duration\n",
        "아: 0.8sec 애: 0.9sec "
      ]
    }
  ]
}