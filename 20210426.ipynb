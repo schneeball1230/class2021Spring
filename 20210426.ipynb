{
  "nbformat": 4,
  "nbformat_minor": 0,
  "metadata": {
    "colab": {
      "name": "20210426.ipynb",
      "provenance": [],
      "authorship_tag": "ABX9TyNcJZmmBqgPpLjlDYyaRWcp",
      "include_colab_link": true
    },
    "kernelspec": {
      "name": "python3",
      "display_name": "Python 3"
    },
    "language_info": {
      "name": "python"
    }
  },
  "cells": [
    {
      "cell_type": "markdown",
      "metadata": {
        "id": "view-in-github",
        "colab_type": "text"
      },
      "source": [
        "<a href=\"https://colab.research.google.com/github/schneeball1230/class2021Spring/blob/main/20210426.ipynb\" target=\"_parent\"><img src=\"https://colab.research.google.com/assets/colab-badge.svg\" alt=\"Open In Colab\"/></a>"
      ]
    },
    {
      "cell_type": "code",
      "metadata": {
        "id": "M3K-Up6jxzJE"
      },
      "source": [
        "from matplotlib import pyplot as plt\n",
        "import IPython.display as ipd\n",
        "import numpy as np\n",
        "from scipy.signal import lfilter"
      ],
      "execution_count": 4,
      "outputs": []
    },
    {
      "cell_type": "code",
      "metadata": {
        "id": "bNhikGVlxXf6"
      },
      "source": [
        "def phasor(amp, sr, dur, freq):\n",
        "  t = np.arange(1, sr*dur + 1)/sr\n",
        "  theta = t*2*np.pi*freq\n",
        "  s = np.sin(theta)\n",
        "  return s, theta, t"
      ],
      "execution_count": 5,
      "outputs": []
    },
    {
      "cell_type": "code",
      "metadata": {
        "colab": {
          "base_uri": "https://localhost:8080/"
        },
        "id": "qDwn7yUczPhu",
        "outputId": "6f70f0df-532e-4b29-d778-ab834c4f0bd6"
      },
      "source": [
        "phasor(1, 10000, 0.5, 200.0)"
      ],
      "execution_count": 12,
      "outputs": [
        {
          "output_type": "execute_result",
          "data": {
            "text/plain": [
              "(array([ 1.25333234e-01,  2.48689887e-01,  3.68124553e-01, ...,\n",
              "        -2.48689887e-01, -1.25333234e-01,  3.92877345e-15]),\n",
              " array([1.25663706e-01, 2.51327412e-01, 3.76991118e-01, ...,\n",
              "        6.28067203e+02, 6.28192867e+02, 6.28318531e+02]),\n",
              " array([1.000e-04, 2.000e-04, 3.000e-04, ..., 4.998e-01, 4.999e-01,\n",
              "        5.000e-01]))"
            ]
          },
          "metadata": {
            "tags": []
          },
          "execution_count": 12
        }
      ]
    },
    {
      "cell_type": "code",
      "metadata": {
        "id": "OMdgCXVuyHKb"
      },
      "source": [
        "def phasor_audio(amp, sr, dur, freq):\n",
        "  t = np.arange(1, sr*dur + 1)/sr\n",
        "  theta = t*2*np.pi*freq\n",
        "  s = np.sin(theta)\n",
        "  return ipd.Audio(s, rate=sr)"
      ],
      "execution_count": 10,
      "outputs": []
    },
    {
      "cell_type": "code",
      "metadata": {
        "colab": {
          "base_uri": "https://localhost:8080/",
          "height": 75
        },
        "id": "UbLIfoUMye-F",
        "outputId": "948172c9-7c55-4c85-dc4d-ecf2176943ec"
      },
      "source": [
        "phasor_audio(1, 10000, 0.5, 200.0)"
      ],
      "execution_count": 11,
      "outputs": [
        {
          "output_type": "execute_result",
          "data": {
            "text/html": [
              "\n",
              "                <audio controls=\"controls\" >\n",
              "                    <source src=\"data:audio/wav;base64,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\" type=\"audio/wav\" />\n",
              "                    Your browser does not support the audio element.\n",
              "                </audio>\n",
              "              "
            ],
            "text/plain": [
              "<IPython.lib.display.Audio object>"
            ]
          },
          "metadata": {
            "tags": []
          },
          "execution_count": 11
        }
      ]
    },
    {
      "cell_type": "code",
      "metadata": {
        "id": "BiI2sW8FzKYM"
      },
      "source": [
        ""
      ],
      "execution_count": null,
      "outputs": []
    }
  ]
}